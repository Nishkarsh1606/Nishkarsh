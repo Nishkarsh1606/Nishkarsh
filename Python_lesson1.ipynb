{
  "nbformat": 4,
  "nbformat_minor": 0,
  "metadata": {
    "colab": {
      "name": "Untitled0.ipynb",
      "provenance": [],
      "authorship_tag": "ABX9TyOJqzVVzMPlsn0SpHw96F0h",
      "include_colab_link": true
    },
    "kernelspec": {
      "name": "python3",
      "display_name": "Python 3"
    },
    "language_info": {
      "name": "python"
    }
  },
  "cells": [
    {
      "cell_type": "markdown",
      "metadata": {
        "id": "view-in-github",
        "colab_type": "text"
      },
      "source": [
        "<a href=\"https://colab.research.google.com/github/Nishkarsh1606/Nishkarsh1606/blob/main/Python_lesson1.ipynb\" target=\"_parent\"><img src=\"https://colab.research.google.com/assets/colab-badge.svg\" alt=\"Open In Colab\"/></a>"
      ]
    },
    {
      "cell_type": "code",
      "execution_count": 7,
      "metadata": {
        "colab": {
          "base_uri": "https://localhost:8080/"
        },
        "id": "hMVRwmzua2D0",
        "outputId": "8f343ae6-f370-438e-b774-02d030ab39d9"
      },
      "outputs": [
        {
          "output_type": "stream",
          "name": "stdout",
          "text": [
            "jeans left\n",
            "600\n",
            "False\n"
          ]
        }
      ],
      "source": [
        "jeans_sold=600\n",
        "inventory=500\n",
        "jeans_left=inventory-jeans_sold\n",
        "print (\"jeans left\")\n",
        "print (jeans_sold)\n",
        "is_day= True \n",
        "is_night= not is_day\n",
        "print (is_night)"
      ]
    }
  ]
}